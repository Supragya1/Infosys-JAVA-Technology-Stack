{
 "cells": [
  {
   "cell_type": "markdown",
   "metadata": {},
   "source": [
    "**Q1 of 1**\n",
    "\n",
    "What will be the output of the below code? \n",
    "\n",
    "```java\n",
    "class Room {\n",
    "\tprivate int roomNo;\n",
    "\n",
    "\tpublic Room(int n) {\n",
    "\t\tSystem.out.println(\"Room created\");\n",
    "\t\tthis.roomNo = n;\n",
    "\t}\n",
    "}\n",
    "\n",
    "public class Building {\n",
    "\tpublic Room room;\n",
    "\n",
    "\tpublic Building() {\n",
    "\t\tthis.room = new Room(20);\n",
    "\t}\n",
    "\n",
    "\tpublic Building(Room room) {\n",
    "\t\tSystem.out.println(\"Building created\");\n",
    "\t\tthis.room = room;\n",
    "\t}\n",
    "\n",
    "\tpublic static void main(String args[]) {\n",
    "\t\tBuilding b = new Building();\n",
    "\t}\n",
    "}\n",
    "```\n",
    "- compilation error: cannot create Room object inside constructor of Building []\n",
    "- compilation error: Building cannot have two constructors []\n",
    "- Room created [x] \n",
    "- Building created []\n",
    "\n",
    "Explanation :\n",
    "\n",
    "When the object of Building class is created, the parameterless constructor of Building class is invoked which then invokes the constructor of the Room class and finally, the 'Room created' message gets displayed."
   ]
  }
 ],
 "metadata": {
  "language_info": {
   "name": "python"
  }
 },
 "nbformat": 4,
 "nbformat_minor": 2
}
