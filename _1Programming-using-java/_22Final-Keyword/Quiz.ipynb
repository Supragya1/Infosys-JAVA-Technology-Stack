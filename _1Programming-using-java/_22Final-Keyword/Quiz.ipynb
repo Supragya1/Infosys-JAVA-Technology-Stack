{
 "cells": [
  {
   "cell_type": "markdown",
   "metadata": {},
   "source": [
    "**Q1 of 2**\n",
    "Identify the correct declaration of a final variable.\n",
    "- private double final PI = 3.14 []\n",
    "- private final double PI = 3.14 [x]\n",
    "- private double PI = 3.14 final []\n",
    "- private double PI = final 3.14 []\n",
    "\n",
    "Explanation :\n",
    "The statement is syntactically correct and final keyword must appear before the data type.\n",
    "\n",
    "**Q2 of 2**\n",
    "What will be the output of the below code?\n",
    "```java\n",
    "public class Tester {\n",
    "\tpublic static void main(String[] args) {\n",
    "\t\tDemo demo = new Demo();\n",
    "\t\tSystem.out.println(demo.num);\n",
    "\t}\n",
    "}\n",
    "\n",
    "class Demo {\n",
    "\tfinal int num = 100;\n",
    "\n",
    "\tpublic void setNum(String num) {\n",
    "\t\tthis.num = 50;\n",
    "\t}\n",
    "}\n",
    "```\n",
    "- 50 []\n",
    "- 100 []\n",
    "- Compilation error as the value of a final variable cannot be changed [x]\n",
    "- Runtime error as the value of a final variable cannot be changed []\n",
    "\n",
    "Explanation :\n",
    "The value of a final variable cannot be changed and hence, there will be a compilation error."
   ]
  }
 ],
 "metadata": {
  "language_info": {
   "name": "python"
  }
 },
 "nbformat": 4,
 "nbformat_minor": 2
}
