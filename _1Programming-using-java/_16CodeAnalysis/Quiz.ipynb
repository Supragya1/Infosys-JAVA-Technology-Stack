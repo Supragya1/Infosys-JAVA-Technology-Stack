{
 "cells": [
  {
   "cell_type": "markdown",
   "metadata": {},
   "source": [
    "Which of the following code snippets do not have any naming convention violation?\n",
    "\n",
    "- public class PMDDemo {...} [x]\n",
    "- public class pmdDemo {...} []\n",
    "- public int PmdDemo() {...} []\n",
    "- public class PmdDemo {...} [x]\n",
    "- public void pmdDemo() {...} [x]\n",
    "- public float PMDDemo() {...} []\n",
    "  \n",
    "Explanation :\n",
    "Class name should follow pascal case and is followed in this class name.\n",
    "\n",
    "Explanation :\n",
    "Class name should follow pascal case and is followed in this class name.\n",
    "\n",
    "Explanation :\n",
    "Method name follows camel casing. Every word in the phrase starts with uppercase except the first word."
   ]
  }
 ],
 "metadata": {
  "language_info": {
   "name": "python"
  }
 },
 "nbformat": 4,
 "nbformat_minor": 2
}
