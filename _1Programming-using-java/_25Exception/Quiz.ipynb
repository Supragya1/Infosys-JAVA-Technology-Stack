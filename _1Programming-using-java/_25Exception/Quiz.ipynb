{
 "cells": [
  {
   "cell_type": "markdown",
   "metadata": {},
   "source": [
    "**Q1 of 5**\n",
    "What will be the output of the below program?\n",
    "\n",
    "```java\n",
    "What will be the output of the below program?\n",
    "\n",
    "class ParentClass extends Exception {\n",
    "};\n",
    "\n",
    "class ChildClass extends ParentClass {\n",
    "};\n",
    "\n",
    "public class Tester {\n",
    "\tpublic static void main(String[] args) {\n",
    "\t\ttry {\n",
    "\t\t\tthrow new ChildClass();\n",
    "\t\t} catch (ParentClass p) {\n",
    "\t\t\tSystem.out.println(\"Caught ParentClass exception\");\n",
    "\t\t} catch (ChildClass e) {\n",
    "\t\t\tSystem.out.println(\"Caught ChildClass exception\");\n",
    "\t\t}\n",
    "\t}\n",
    "}\n",
    "```\n",
    "- Caught Parent Class Exception []\n",
    "- Caught Child Class Exception []\n",
    "- Compilation error because the ChildClass is not throwable []\n",
    "- Compilation error because the catch block of a parent class exception must appear after the catch block of a child class exception [x]\n",
    "\n",
    "Explanation :\n",
    "The catch block of a parent class exception must appear after the catch block of a child class exception. If the catch block of a parent class exception appears before, then there will be a compilation error.\n",
    "\n"
   ]
  }
 ],
 "metadata": {
  "language_info": {
   "name": "python"
  }
 },
 "nbformat": 4,
 "nbformat_minor": 2
}
