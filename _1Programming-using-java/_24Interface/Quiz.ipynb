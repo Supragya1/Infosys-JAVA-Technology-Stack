{
 "cells": [
  {
   "cell_type": "markdown",
   "metadata": {},
   "source": [
    "**Q1 of 2**\n",
    "What will happen on executing the code given below?\n",
    "\n",
    "``` java\n",
    "interface BankOperations {\n",
    "\tvoid withdraw();\n",
    "\n",
    "\tvoid deposit();\n",
    "}\n",
    "\n",
    "abstract class Branch implements BankOperations {\n",
    "\tpublic void withdraw() {\n",
    "\t\tSystem.out.println(\"Amount withdrawn\");\n",
    "\t}\n",
    "}\n",
    "\n",
    "public class SubBranch extends Branch {\n",
    "\tpublic void deposit() {\n",
    "\t\tSystem.out.println(\"Amount deposited\");\n",
    "\t}\n",
    "\n",
    "\tpublic static void main(String args[]) {\n",
    "\t\tBankOperations subBranch = new SubBranch();\n",
    "\t\tsubBranch.deposit();\n",
    "\t}\n",
    "}\n",
    "```\n",
    "\n",
    "- Compilation error: Abstract class cannot implement an interface []\n",
    "- Compilation error: class Branch should implement all the abstract methods []\n",
    "- Compilation error: Cannot call deposit() method using BankOperation's reference []\n",
    "- Code will get executed successfully and display \"Amount deposited\" [x]\n",
    "\n",
    "Explanation :\n",
    "There is no error in the code and the output will be displayed successfully.\n",
    "\n",
    "**Q2 of 2**\n",
    "\n",
    "Which of the following is/are true for classes and interfaces?\n",
    "\n",
    "\"Account extends SavingsAccount\" is correct if and only if \"Account is a class\" and \"SavingsAccount is an interface\" []\n",
    "\"Account extends SavingsAccount\" is correct if and only if \"Account is an interface\" and \"SavingsAccount is a class\" []\n",
    "\"Account extends SavingsAccount\" is correct if \"Account and SavingsAccount both are either interfaces or classes\" [x]\n",
    "\"SavingsAccount implements Account\" is correct if and only if \"Account is an interface\" and \"SavingsAccount is a class\" [x]\n",
    "\n",
    "Explanation :\n",
    "A class can extend another class and the same is applicable for interfaces also. Hence, it is true that \"Account extends SavingsAccount\" is correct if \"Account and SavingsAccount both are either interfaces or classes\".\n",
    "\n",
    "Explanation :\n",
    "A class implements an interface. Hence, it is true that \"SavingsAccount implements Account\" is correct if and only if \"Account is an interface\" and \"SavingsAccount is a class\"."
   ]
  }
 ],
 "metadata": {
  "language_info": {
   "name": "python"
  }
 },
 "nbformat": 4,
 "nbformat_minor": 2
}
