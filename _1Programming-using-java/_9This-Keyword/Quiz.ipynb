{
 "cells": [
  {
   "cell_type": "markdown",
   "metadata": {},
   "source": [
    "**Q1**\n",
    "What will be the output of the below code?\n",
    "\n",
    "``` java\n",
    "public class Tester {\n",
    "\tpublic int num1;\n",
    "\tpublic int num2;\n",
    "\n",
    "\tTester(int num1, int num2) {\n",
    "\t\tnum1 = num1;\n",
    "\t\tnum2 = num2;\n",
    "\t}\n",
    "\n",
    "\tpublic static void main(String args[]) {\n",
    "\t\tTester tester = new Tester(20, 40);\n",
    "\t\tSystem.out.println(tester.num1);\n",
    "\t\tSystem.out.println(tester.num2);\n",
    "\t}\n",
    "}\n",
    "```\n",
    "- compilation error: variables num1 and num2 need to be initialized before use []\n",
    "- garbage value [] \n",
    "- 0 0 [x]\n",
    "- 20 40 []\n",
    "\n",
    "Explanation :\n",
    "\n",
    "Since the names of the parameters of the constructor and the instance variables are same, the parameters being local variables get preference and the variables a and b inside the constructor refer to the parameters, i.e., local variables. So, the instance variables are not being initialized and have the default values as 0 and 0."
   ]
  },
  {
   "cell_type": "markdown",
   "metadata": {},
   "source": []
  }
 ],
 "metadata": {
  "language_info": {
   "name": "python"
  }
 },
 "nbformat": 4,
 "nbformat_minor": 2
}
